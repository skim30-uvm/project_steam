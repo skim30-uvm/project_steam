{
 "cells": [
  {
   "cell_type": "markdown",
   "metadata": {},
   "source": [
    "# Copyright 2022 Sang Wook KIm\n",
    "\n",
    "Licensed under the Apache License, Version 2.0 (the \"License\");\n",
    "you may not use this file except in compliance with the License.\n",
    "You may obtain a copy of the License at\n",
    "\n",
    "    http://www.apache.org/licenses/LICENSE-2.0\n",
    "\n",
    "Unless required by applicable law or agreed to in writing, software\n",
    "distributed under the License is distributed on an \"AS IS\" BASIS,\n",
    "WITHOUT WARRANTIES OR CONDITIONS OF ANY KIND, either express or implied.\n",
    "See the License for the specific language governing permissions and\n",
    "limitations under the License.\n",
    "\n",
    "## Data source (Steam Store Games): https://www.kaggle.com/nikdavis/steam-store-games?select=steam_media_data.csv\n",
    "#### "
   ]
  },
  {
   "cell_type": "code",
   "execution_count": 1,
   "metadata": {},
   "outputs": [
    {
     "name": "stdout",
     "output_type": "stream",
     "text": [
      "Imported modules.\n"
     ]
    }
   ],
   "source": [
    "# Import relevant modules\n",
    "import tensorflow as tf\n",
    "import numpy as np\n",
    "import pandas as pd\n",
    "from tensorflow import keras\n",
    "from tensorflow.keras import layers\n",
    "print(\"Imported modules.\")"
   ]
  },
  {
   "cell_type": "markdown",
   "metadata": {},
   "source": [
    "# Read data"
   ]
  },
  {
   "cell_type": "code",
   "execution_count": 2,
   "metadata": {},
   "outputs": [
    {
     "data": {
      "text/html": [
       "<div>\n",
       "<style scoped>\n",
       "    .dataframe tbody tr th:only-of-type {\n",
       "        vertical-align: middle;\n",
       "    }\n",
       "\n",
       "    .dataframe tbody tr th {\n",
       "        vertical-align: top;\n",
       "    }\n",
       "\n",
       "    .dataframe thead th {\n",
       "        text-align: right;\n",
       "    }\n",
       "</style>\n",
       "<table border=\"1\" class=\"dataframe\">\n",
       "  <thead>\n",
       "    <tr style=\"text-align: right;\">\n",
       "      <th></th>\n",
       "      <th>appid</th>\n",
       "      <th>name</th>\n",
       "      <th>release_date</th>\n",
       "      <th>english</th>\n",
       "      <th>developer</th>\n",
       "      <th>publisher</th>\n",
       "      <th>platforms</th>\n",
       "      <th>required_age</th>\n",
       "      <th>categories</th>\n",
       "      <th>genres</th>\n",
       "      <th>steamspy_tags</th>\n",
       "      <th>achievements</th>\n",
       "      <th>positive_ratings</th>\n",
       "      <th>negative_ratings</th>\n",
       "      <th>average_playtime</th>\n",
       "      <th>median_playtime</th>\n",
       "      <th>owners</th>\n",
       "      <th>price</th>\n",
       "    </tr>\n",
       "  </thead>\n",
       "  <tbody>\n",
       "    <tr>\n",
       "      <th>0</th>\n",
       "      <td>10</td>\n",
       "      <td>Counter-Strike</td>\n",
       "      <td>2000-11-01</td>\n",
       "      <td>1</td>\n",
       "      <td>Valve</td>\n",
       "      <td>Valve</td>\n",
       "      <td>windows;mac;linux</td>\n",
       "      <td>0</td>\n",
       "      <td>Multi-player;Online Multi-Player;Local Multi-P...</td>\n",
       "      <td>Action</td>\n",
       "      <td>Action;FPS;Multiplayer</td>\n",
       "      <td>0</td>\n",
       "      <td>124534</td>\n",
       "      <td>3339</td>\n",
       "      <td>17612</td>\n",
       "      <td>317</td>\n",
       "      <td>10000000-20000000</td>\n",
       "      <td>7.19</td>\n",
       "    </tr>\n",
       "    <tr>\n",
       "      <th>1</th>\n",
       "      <td>20</td>\n",
       "      <td>Team Fortress Classic</td>\n",
       "      <td>1999-04-01</td>\n",
       "      <td>1</td>\n",
       "      <td>Valve</td>\n",
       "      <td>Valve</td>\n",
       "      <td>windows;mac;linux</td>\n",
       "      <td>0</td>\n",
       "      <td>Multi-player;Online Multi-Player;Local Multi-P...</td>\n",
       "      <td>Action</td>\n",
       "      <td>Action;FPS;Multiplayer</td>\n",
       "      <td>0</td>\n",
       "      <td>3318</td>\n",
       "      <td>633</td>\n",
       "      <td>277</td>\n",
       "      <td>62</td>\n",
       "      <td>5000000-10000000</td>\n",
       "      <td>3.99</td>\n",
       "    </tr>\n",
       "    <tr>\n",
       "      <th>2</th>\n",
       "      <td>30</td>\n",
       "      <td>Day of Defeat</td>\n",
       "      <td>2003-05-01</td>\n",
       "      <td>1</td>\n",
       "      <td>Valve</td>\n",
       "      <td>Valve</td>\n",
       "      <td>windows;mac;linux</td>\n",
       "      <td>0</td>\n",
       "      <td>Multi-player;Valve Anti-Cheat enabled</td>\n",
       "      <td>Action</td>\n",
       "      <td>FPS;World War II;Multiplayer</td>\n",
       "      <td>0</td>\n",
       "      <td>3416</td>\n",
       "      <td>398</td>\n",
       "      <td>187</td>\n",
       "      <td>34</td>\n",
       "      <td>5000000-10000000</td>\n",
       "      <td>3.99</td>\n",
       "    </tr>\n",
       "    <tr>\n",
       "      <th>3</th>\n",
       "      <td>40</td>\n",
       "      <td>Deathmatch Classic</td>\n",
       "      <td>2001-06-01</td>\n",
       "      <td>1</td>\n",
       "      <td>Valve</td>\n",
       "      <td>Valve</td>\n",
       "      <td>windows;mac;linux</td>\n",
       "      <td>0</td>\n",
       "      <td>Multi-player;Online Multi-Player;Local Multi-P...</td>\n",
       "      <td>Action</td>\n",
       "      <td>Action;FPS;Multiplayer</td>\n",
       "      <td>0</td>\n",
       "      <td>1273</td>\n",
       "      <td>267</td>\n",
       "      <td>258</td>\n",
       "      <td>184</td>\n",
       "      <td>5000000-10000000</td>\n",
       "      <td>3.99</td>\n",
       "    </tr>\n",
       "    <tr>\n",
       "      <th>4</th>\n",
       "      <td>50</td>\n",
       "      <td>Half-Life: Opposing Force</td>\n",
       "      <td>1999-11-01</td>\n",
       "      <td>1</td>\n",
       "      <td>Gearbox Software</td>\n",
       "      <td>Valve</td>\n",
       "      <td>windows;mac;linux</td>\n",
       "      <td>0</td>\n",
       "      <td>Single-player;Multi-player;Valve Anti-Cheat en...</td>\n",
       "      <td>Action</td>\n",
       "      <td>FPS;Action;Sci-fi</td>\n",
       "      <td>0</td>\n",
       "      <td>5250</td>\n",
       "      <td>288</td>\n",
       "      <td>624</td>\n",
       "      <td>415</td>\n",
       "      <td>5000000-10000000</td>\n",
       "      <td>3.99</td>\n",
       "    </tr>\n",
       "  </tbody>\n",
       "</table>\n",
       "</div>"
      ],
      "text/plain": [
       "   appid                       name release_date  english         developer  \\\n",
       "0     10             Counter-Strike   2000-11-01        1             Valve   \n",
       "1     20      Team Fortress Classic   1999-04-01        1             Valve   \n",
       "2     30              Day of Defeat   2003-05-01        1             Valve   \n",
       "3     40         Deathmatch Classic   2001-06-01        1             Valve   \n",
       "4     50  Half-Life: Opposing Force   1999-11-01        1  Gearbox Software   \n",
       "\n",
       "  publisher          platforms  required_age  \\\n",
       "0     Valve  windows;mac;linux             0   \n",
       "1     Valve  windows;mac;linux             0   \n",
       "2     Valve  windows;mac;linux             0   \n",
       "3     Valve  windows;mac;linux             0   \n",
       "4     Valve  windows;mac;linux             0   \n",
       "\n",
       "                                          categories  genres  \\\n",
       "0  Multi-player;Online Multi-Player;Local Multi-P...  Action   \n",
       "1  Multi-player;Online Multi-Player;Local Multi-P...  Action   \n",
       "2              Multi-player;Valve Anti-Cheat enabled  Action   \n",
       "3  Multi-player;Online Multi-Player;Local Multi-P...  Action   \n",
       "4  Single-player;Multi-player;Valve Anti-Cheat en...  Action   \n",
       "\n",
       "                  steamspy_tags  achievements  positive_ratings  \\\n",
       "0        Action;FPS;Multiplayer             0            124534   \n",
       "1        Action;FPS;Multiplayer             0              3318   \n",
       "2  FPS;World War II;Multiplayer             0              3416   \n",
       "3        Action;FPS;Multiplayer             0              1273   \n",
       "4             FPS;Action;Sci-fi             0              5250   \n",
       "\n",
       "   negative_ratings  average_playtime  median_playtime             owners  \\\n",
       "0              3339             17612              317  10000000-20000000   \n",
       "1               633               277               62   5000000-10000000   \n",
       "2               398               187               34   5000000-10000000   \n",
       "3               267               258              184   5000000-10000000   \n",
       "4               288               624              415   5000000-10000000   \n",
       "\n",
       "   price  \n",
       "0   7.19  \n",
       "1   3.99  \n",
       "2   3.99  \n",
       "3   3.99  \n",
       "4   3.99  "
      ]
     },
     "execution_count": 2,
     "metadata": {},
     "output_type": "execute_result"
    }
   ],
   "source": [
    "df_steam = pd.read_csv(\"./database/Steam/steam.csv\")\n",
    "df_steam.head()"
   ]
  },
  {
   "cell_type": "code",
   "execution_count": 3,
   "metadata": {},
   "outputs": [
    {
     "name": "stdout",
     "output_type": "stream",
     "text": [
      "appid | name | release_date | english | developer | publisher | platforms | required_age | categories | genres | steamspy_tags | achievements | positive_ratings | negative_ratings | average_playtime | median_playtime | owners | price | "
     ]
    }
   ],
   "source": [
    "# Name of columns\n",
    "for col in df_steam.columns:\n",
    "    print(col, end=' | ')"
   ]
  },
  {
   "cell_type": "code",
   "execution_count": 4,
   "metadata": {},
   "outputs": [
    {
     "data": {
      "text/html": [
       "<div>\n",
       "<style scoped>\n",
       "    .dataframe tbody tr th:only-of-type {\n",
       "        vertical-align: middle;\n",
       "    }\n",
       "\n",
       "    .dataframe tbody tr th {\n",
       "        vertical-align: top;\n",
       "    }\n",
       "\n",
       "    .dataframe thead th {\n",
       "        text-align: right;\n",
       "    }\n",
       "</style>\n",
       "<table border=\"1\" class=\"dataframe\">\n",
       "  <thead>\n",
       "    <tr style=\"text-align: right;\">\n",
       "      <th></th>\n",
       "      <th>english</th>\n",
       "      <th>required_age</th>\n",
       "      <th>achievements</th>\n",
       "      <th>positive_ratings</th>\n",
       "      <th>negative_ratings</th>\n",
       "      <th>average_playtime</th>\n",
       "      <th>median_playtime</th>\n",
       "      <th>price</th>\n",
       "    </tr>\n",
       "  </thead>\n",
       "  <tbody>\n",
       "    <tr>\n",
       "      <th>count</th>\n",
       "      <td>27075.000000</td>\n",
       "      <td>27075.000000</td>\n",
       "      <td>27075.000000</td>\n",
       "      <td>2.707500e+04</td>\n",
       "      <td>27075.000000</td>\n",
       "      <td>27075.000000</td>\n",
       "      <td>27075.00000</td>\n",
       "      <td>27075.000000</td>\n",
       "    </tr>\n",
       "    <tr>\n",
       "      <th>mean</th>\n",
       "      <td>0.981127</td>\n",
       "      <td>0.354903</td>\n",
       "      <td>45.248864</td>\n",
       "      <td>1.000559e+03</td>\n",
       "      <td>211.027147</td>\n",
       "      <td>149.804949</td>\n",
       "      <td>146.05603</td>\n",
       "      <td>6.078193</td>\n",
       "    </tr>\n",
       "    <tr>\n",
       "      <th>std</th>\n",
       "      <td>0.136081</td>\n",
       "      <td>2.406044</td>\n",
       "      <td>352.670281</td>\n",
       "      <td>1.898872e+04</td>\n",
       "      <td>4284.938531</td>\n",
       "      <td>1827.038141</td>\n",
       "      <td>2353.88008</td>\n",
       "      <td>7.874922</td>\n",
       "    </tr>\n",
       "    <tr>\n",
       "      <th>min</th>\n",
       "      <td>0.000000</td>\n",
       "      <td>0.000000</td>\n",
       "      <td>0.000000</td>\n",
       "      <td>0.000000e+00</td>\n",
       "      <td>0.000000</td>\n",
       "      <td>0.000000</td>\n",
       "      <td>0.00000</td>\n",
       "      <td>0.000000</td>\n",
       "    </tr>\n",
       "    <tr>\n",
       "      <th>25%</th>\n",
       "      <td>1.000000</td>\n",
       "      <td>0.000000</td>\n",
       "      <td>0.000000</td>\n",
       "      <td>6.000000e+00</td>\n",
       "      <td>2.000000</td>\n",
       "      <td>0.000000</td>\n",
       "      <td>0.00000</td>\n",
       "      <td>1.690000</td>\n",
       "    </tr>\n",
       "    <tr>\n",
       "      <th>50%</th>\n",
       "      <td>1.000000</td>\n",
       "      <td>0.000000</td>\n",
       "      <td>7.000000</td>\n",
       "      <td>2.400000e+01</td>\n",
       "      <td>9.000000</td>\n",
       "      <td>0.000000</td>\n",
       "      <td>0.00000</td>\n",
       "      <td>3.990000</td>\n",
       "    </tr>\n",
       "    <tr>\n",
       "      <th>75%</th>\n",
       "      <td>1.000000</td>\n",
       "      <td>0.000000</td>\n",
       "      <td>23.000000</td>\n",
       "      <td>1.260000e+02</td>\n",
       "      <td>42.000000</td>\n",
       "      <td>0.000000</td>\n",
       "      <td>0.00000</td>\n",
       "      <td>7.190000</td>\n",
       "    </tr>\n",
       "    <tr>\n",
       "      <th>max</th>\n",
       "      <td>1.000000</td>\n",
       "      <td>18.000000</td>\n",
       "      <td>9821.000000</td>\n",
       "      <td>2.644404e+06</td>\n",
       "      <td>487076.000000</td>\n",
       "      <td>190625.000000</td>\n",
       "      <td>190625.00000</td>\n",
       "      <td>421.990000</td>\n",
       "    </tr>\n",
       "  </tbody>\n",
       "</table>\n",
       "</div>"
      ],
      "text/plain": [
       "            english  required_age  achievements  positive_ratings  \\\n",
       "count  27075.000000  27075.000000  27075.000000      2.707500e+04   \n",
       "mean       0.981127      0.354903     45.248864      1.000559e+03   \n",
       "std        0.136081      2.406044    352.670281      1.898872e+04   \n",
       "min        0.000000      0.000000      0.000000      0.000000e+00   \n",
       "25%        1.000000      0.000000      0.000000      6.000000e+00   \n",
       "50%        1.000000      0.000000      7.000000      2.400000e+01   \n",
       "75%        1.000000      0.000000     23.000000      1.260000e+02   \n",
       "max        1.000000     18.000000   9821.000000      2.644404e+06   \n",
       "\n",
       "       negative_ratings  average_playtime  median_playtime         price  \n",
       "count      27075.000000      27075.000000      27075.00000  27075.000000  \n",
       "mean         211.027147        149.804949        146.05603      6.078193  \n",
       "std         4284.938531       1827.038141       2353.88008      7.874922  \n",
       "min            0.000000          0.000000          0.00000      0.000000  \n",
       "25%            2.000000          0.000000          0.00000      1.690000  \n",
       "50%            9.000000          0.000000          0.00000      3.990000  \n",
       "75%           42.000000          0.000000          0.00000      7.190000  \n",
       "max       487076.000000     190625.000000     190625.00000    421.990000  "
      ]
     },
     "execution_count": 4,
     "metadata": {},
     "output_type": "execute_result"
    }
   ],
   "source": [
    "# Drop id and name\n",
    "df_steam = df_steam.drop(labels =['appid','name'], axis = 1)\n",
    "# Short statistics\n",
    "df_steam.describe()"
   ]
  },
  {
   "cell_type": "markdown",
   "metadata": {},
   "source": [
    "# 1. Insights and data preperation\n",
    "## label : bucketized number of owners\n",
    "## features\n",
    "highly informative: 'categories', 'genres', 'steamspy_tags', 'positive_ratings', 'negative_ratings', 'price'\n",
    "\n",
    "less informative: 'english', 'platforms', 'required_age','achievements'\n",
    "\n",
    "bias risk: 'release_date', 'developer', 'publisher'\n",
    "\n",
    "## questions:\n",
    "\n",
    "1. \"Is the release_date related to # of owners?\"\n",
    "\n",
    "2. \"Does developer or publisher independently affect # of owners?\" - Credit? PR?\n",
    "\n",
    "3. What features should be used for training?"
   ]
  },
  {
   "cell_type": "code",
   "execution_count": 5,
   "metadata": {},
   "outputs": [
    {
     "name": "stdout",
     "output_type": "stream",
     "text": [
      " The number of owner is # K or less\n",
      "[20, 50, 100, 200, 500, 1000, 2000, 5000, 10000, 20000, 50000, 100000, 200000]\n"
     ]
    }
   ],
   "source": [
    "# transform label representation\n",
    "  # upper bound for each bucket\n",
    "df_owners = df_steam['owners'].apply(lambda x: int(x.split('-')[1])//1000)\n",
    "print(\" The number of owner is # K or less\")\n",
    "lookup_list = sorted(list(df_owners.unique()))\n",
    "print(lookup_list)"
   ]
  },
  {
   "cell_type": "markdown",
   "metadata": {},
   "source": [
    "## To answer the first question, let's find the mean value of the dates\n",
    "(\"Does the release_date has strong correlation with # of owners?\")"
   ]
  },
  {
   "cell_type": "code",
   "execution_count": 6,
   "metadata": {},
   "outputs": [],
   "source": [
    "from datetime import datetime"
   ]
  },
  {
   "cell_type": "code",
   "execution_count": 7,
   "metadata": {},
   "outputs": [],
   "source": [
    "series_date = df_steam.release_date.apply(lambda x: datetime.fromisoformat(x).timestamp())\n",
    "question1 = pd.concat(\n",
    "    [df_owners,series_date],\n",
    "    axis = 1,)"
   ]
  },
  {
   "cell_type": "code",
   "execution_count": 8,
   "metadata": {},
   "outputs": [
    {
     "data": {
      "text/plain": [
       "0.0"
      ]
     },
     "execution_count": 8,
     "metadata": {},
     "output_type": "execute_result"
    }
   ],
   "source": [
    "# Days since the game relasesd\n",
    "array_days = datetime.fromisoformat('2019-05-01').timestamp() - np.array(series_date)\n",
    "array_days /= (60*60*24)\n",
    "array_days.min()"
   ]
  },
  {
   "cell_type": "code",
   "execution_count": 9,
   "metadata": {},
   "outputs": [
    {
     "name": "stdout",
     "output_type": "stream",
     "text": [
      "Mean release date\n"
     ]
    },
    {
     "data": {
      "text/html": [
       "<div>\n",
       "<style scoped>\n",
       "    .dataframe tbody tr th:only-of-type {\n",
       "        vertical-align: middle;\n",
       "    }\n",
       "\n",
       "    .dataframe tbody tr th {\n",
       "        vertical-align: top;\n",
       "    }\n",
       "\n",
       "    .dataframe thead th {\n",
       "        text-align: right;\n",
       "    }\n",
       "</style>\n",
       "<table border=\"1\" class=\"dataframe\">\n",
       "  <thead>\n",
       "    <tr style=\"text-align: right;\">\n",
       "      <th></th>\n",
       "      <th>release_date</th>\n",
       "      <th>release_date_format</th>\n",
       "      <th>counts</th>\n",
       "    </tr>\n",
       "    <tr>\n",
       "      <th>owners</th>\n",
       "      <th></th>\n",
       "      <th></th>\n",
       "      <th></th>\n",
       "    </tr>\n",
       "  </thead>\n",
       "  <tbody>\n",
       "    <tr>\n",
       "      <th>20</th>\n",
       "      <td>1.505201e+09</td>\n",
       "      <td>2017-09-12T03:23:00</td>\n",
       "      <td>18596</td>\n",
       "    </tr>\n",
       "    <tr>\n",
       "      <th>50</th>\n",
       "      <td>1.457225e+09</td>\n",
       "      <td>2016-03-05T19:40:01</td>\n",
       "      <td>3059</td>\n",
       "    </tr>\n",
       "    <tr>\n",
       "      <th>100</th>\n",
       "      <td>1.444877e+09</td>\n",
       "      <td>2015-10-14T22:45:07</td>\n",
       "      <td>1695</td>\n",
       "    </tr>\n",
       "    <tr>\n",
       "      <th>200</th>\n",
       "      <td>1.432374e+09</td>\n",
       "      <td>2015-05-23T05:36:47</td>\n",
       "      <td>1386</td>\n",
       "    </tr>\n",
       "    <tr>\n",
       "      <th>500</th>\n",
       "      <td>1.414970e+09</td>\n",
       "      <td>2014-11-02T18:18:37</td>\n",
       "      <td>1272</td>\n",
       "    </tr>\n",
       "    <tr>\n",
       "      <th>1000</th>\n",
       "      <td>1.392958e+09</td>\n",
       "      <td>2014-02-20T23:51:06</td>\n",
       "      <td>513</td>\n",
       "    </tr>\n",
       "    <tr>\n",
       "      <th>2000</th>\n",
       "      <td>1.382017e+09</td>\n",
       "      <td>2013-10-17T09:29:10</td>\n",
       "      <td>288</td>\n",
       "    </tr>\n",
       "    <tr>\n",
       "      <th>5000</th>\n",
       "      <td>1.379642e+09</td>\n",
       "      <td>2013-09-19T21:57:49</td>\n",
       "      <td>193</td>\n",
       "    </tr>\n",
       "    <tr>\n",
       "      <th>10000</th>\n",
       "      <td>1.325347e+09</td>\n",
       "      <td>2011-12-31T10:50:52</td>\n",
       "      <td>46</td>\n",
       "    </tr>\n",
       "    <tr>\n",
       "      <th>20000</th>\n",
       "      <td>1.296316e+09</td>\n",
       "      <td>2011-01-29T10:51:25</td>\n",
       "      <td>21</td>\n",
       "    </tr>\n",
       "    <tr>\n",
       "      <th>50000</th>\n",
       "      <td>1.351858e+09</td>\n",
       "      <td>2012-11-02T08:00:00</td>\n",
       "      <td>3</td>\n",
       "    </tr>\n",
       "    <tr>\n",
       "      <th>100000</th>\n",
       "      <td>1.429677e+09</td>\n",
       "      <td>2015-04-22T00:30:00</td>\n",
       "      <td>2</td>\n",
       "    </tr>\n",
       "    <tr>\n",
       "      <th>200000</th>\n",
       "      <td>1.373342e+09</td>\n",
       "      <td>2013-07-09T00:00:00</td>\n",
       "      <td>1</td>\n",
       "    </tr>\n",
       "  </tbody>\n",
       "</table>\n",
       "</div>"
      ],
      "text/plain": [
       "        release_date  release_date_format  counts\n",
       "owners                                           \n",
       "20      1.505201e+09  2017-09-12T03:23:00   18596\n",
       "50      1.457225e+09  2016-03-05T19:40:01    3059\n",
       "100     1.444877e+09  2015-10-14T22:45:07    1695\n",
       "200     1.432374e+09  2015-05-23T05:36:47    1386\n",
       "500     1.414970e+09  2014-11-02T18:18:37    1272\n",
       "1000    1.392958e+09  2014-02-20T23:51:06     513\n",
       "2000    1.382017e+09  2013-10-17T09:29:10     288\n",
       "5000    1.379642e+09  2013-09-19T21:57:49     193\n",
       "10000   1.325347e+09  2011-12-31T10:50:52      46\n",
       "20000   1.296316e+09  2011-01-29T10:51:25      21\n",
       "50000   1.351858e+09  2012-11-02T08:00:00       3\n",
       "100000  1.429677e+09  2015-04-22T00:30:00       2\n",
       "200000  1.373342e+09  2013-07-09T00:00:00       1"
      ]
     },
     "execution_count": 9,
     "metadata": {},
     "output_type": "execute_result"
    }
   ],
   "source": [
    "mean_date = question1.groupby('owners').mean()\n",
    "mean_date['release_date_format'] = mean_date.release_date.apply(\n",
    "    lambda x: datetime.fromtimestamp(int(x)).isoformat()\n",
    "    )\n",
    "mean_date['counts'] = question1.groupby('owners').count()\n",
    "print(\"Mean release date\")\n",
    "mean_date"
   ]
  },
  {
   "cell_type": "code",
   "execution_count": 10,
   "metadata": {},
   "outputs": [
    {
     "data": {
      "text/plain": [
       "<AxesSubplot:>"
      ]
     },
     "execution_count": 10,
     "metadata": {},
     "output_type": "execute_result"
    },
    {
     "data": {
      "image/png": "[encoded data removed]",
      "text/plain": [
       "<Figure size 432x288 with 1 Axes>"
      ]
     },
     "metadata": {
      "needs_background": "light"
     },
     "output_type": "display_data"
    }
   ],
   "source": [
    "from matplotlib import pyplot as plt\n",
    "group_date = question1.groupby('owners')\n",
    "group_date.get_group(20)['release_date'].rename('rel_dates_under20').hist(legend = True)\n",
    "group_date.get_group(50)['release_date'].rename('rel_dates_under50').hist(legend = True)\n",
    "group_date.get_group(100)['release_date'].rename('rel_dates_under100').hist(legend = True)\n",
    "group_date.get_group(200)['release_date'].rename('rel_dates_under200').hist(legend = True)"
   ]
  },
  {
   "cell_type": "markdown",
   "metadata": {},
   "source": [
    "# Conclusion for Q1:\n",
    "## The more owners, the older the average release date."
   ]
  },
  {
   "cell_type": "markdown",
   "metadata": {},
   "source": [
    "# 2. Data preperation\n",
    "\n",
    "## In the previous section, we found there are not many games with >10000K owners\n",
    "## Our label then can be either numeric or categorical as following"
   ]
  },
  {
   "cell_type": "code",
   "execution_count": 11,
   "metadata": {},
   "outputs": [
    {
     "name": "stdout",
     "output_type": "stream",
     "text": [
      " The number of owner in log scale is # or less\n",
      "[1.4978661367769954, 1.956011502714073, 2.302585092994046, 2.649158683274018, 3.1073040492110957, 3.4538776394910684, 3.800451229771041, 4.258596595708119] \n",
      "\n",
      " The level of owners_bucket is:\n",
      "[1, 2, 3, 4, 5, 6, 7, 8]\n"
     ]
    }
   ],
   "source": [
    "  # 1. log of upper bound\n",
    "df_owners_log = df_owners.apply( lambda x: np.log(x)/2 if x <= 2000 else np.log(5000)/2 )\n",
    "print(\" The number of owner in log scale is # or less\")\n",
    "print(sorted(list(df_owners_log.unique())),\"\\n\")\n",
    "  # 2. bucket label\n",
    "df_owners_buckets = df_owners.apply(\n",
    "        lambda x: str(lookup_list.index(x)+1) if x <= 2000 else '8' )\n",
    "print(\" The level of owners_bucket is:\")\n",
    "print(sorted( [int(x) for x in df_owners_buckets.unique()] ))"
   ]
  },
  {
   "cell_type": "markdown",
   "metadata": {},
   "source": [
    "# Features"
   ]
  },
  {
   "cell_type": "markdown",
   "metadata": {},
   "source": [
    "## Categorical features\n",
    "### The number of unique values"
   ]
  },
  {
   "cell_type": "code",
   "execution_count": 12,
   "metadata": {},
   "outputs": [],
   "source": [
    "def n_unique(series):\n",
    "    return len(series.unique())"
   ]
  },
  {
   "cell_type": "code",
   "execution_count": 13,
   "metadata": {},
   "outputs": [
    {
     "name": "stdout",
     "output_type": "stream",
     "text": [
      "developer: 17113\n",
      "publisher: 14354\n",
      "platforms: 7\n",
      "required_age: 6\n",
      "categories: 3333\n",
      "genres: 1552\n"
     ]
    }
   ],
   "source": [
    "print('developer: '+str(n_unique(df_steam['developer'])),\n",
    "      'publisher: '+str(n_unique(df_steam['publisher'])),\n",
    "      'platforms: '+str(n_unique(df_steam['platforms'])),\n",
    "      'required_age: '+str(n_unique(df_steam['required_age'])),\n",
    "      'categories: '+str(n_unique(df_steam['categories'])),\n",
    "      'genres: '+str(n_unique(df_steam['genres'])), sep='\\n'\n",
    "     )"
   ]
  },
  {
   "cell_type": "markdown",
   "metadata": {},
   "source": [
    "### There are too many developers and publishers. Useful features might be platforms, required_age, and genres"
   ]
  },
  {
   "cell_type": "markdown",
   "metadata": {},
   "source": [
    "### By looking at 'genres' data, those are not independent features. They are combination of some genres.\n",
    "### One of the strategy is to set genre lookup table"
   ]
  },
  {
   "cell_type": "code",
   "execution_count": 14,
   "metadata": {},
   "outputs": [],
   "source": [
    "def semicolon_spliter(x):\n",
    "    return np.array(x.split(';'))\n",
    "\n",
    "def voca_list(series):\n",
    "    voca = []\n",
    "    for items in series:\n",
    "        for item in items:\n",
    "            if item not in voca:\n",
    "                voca.append(item)\n",
    "    return voca"
   ]
  },
  {
   "cell_type": "code",
   "execution_count": 15,
   "metadata": {},
   "outputs": [
    {
     "name": "stdout",
     "output_type": "stream",
     "text": [
      "platforms: ['windows', 'mac', 'linux']\n",
      "genres: ['Action', 'Free to Play', 'Strategy', 'Adventure', 'Indie', 'RPG', 'Animation & Modeling', 'Video Production', 'Casual', 'Simulation', 'Racing', 'Violent', 'Massively Multiplayer', 'Nudity', 'Sports', 'Early Access', 'Gore', 'Utilities', 'Design & Illustration', 'Web Publishing', 'Education', 'Software Training', 'Sexual Content', 'Audio Production', 'Game Development', 'Photo Editing', 'Accounting', 'Documentary', 'Tutorial']\n"
     ]
    }
   ],
   "source": [
    "split_platforms = df_steam['platforms'].apply(semicolon_spliter)\n",
    "split_genres = df_steam['genres'].apply(semicolon_spliter)\n",
    "list_platforms = voca_list(split_platforms)\n",
    "list_genres = voca_list(split_genres)\n",
    "print(\"platforms:\", list_platforms)\n",
    "print(\"genres:\", list_genres)"
   ]
  },
  {
   "cell_type": "markdown",
   "metadata": {},
   "source": [
    "### Let's break down platforms into three different labels: windows and more, only windows, and else"
   ]
  },
  {
   "cell_type": "code",
   "execution_count": 16,
   "metadata": {},
   "outputs": [],
   "source": [
    "def platforms_code(x):\n",
    "    if 'windows' in x:\n",
    "        if len(x) > 1:\n",
    "            return 'w+'\n",
    "        else:\n",
    "            return 'onlywin'\n",
    "    else:\n",
    "        return 'else'\n",
    "col_platforms = split_platforms.apply(platforms_code)"
   ]
  },
  {
   "cell_type": "code",
   "execution_count": 17,
   "metadata": {},
   "outputs": [
    {
     "data": {
      "text/plain": [
       "<AxesSubplot:>"
      ]
     },
     "execution_count": 17,
     "metadata": {},
     "output_type": "execute_result"
    },
    {
     "data": {
      "image/png": "[encoded data removed]",
      "text/plain": [
       "<Figure size 432x288 with 1 Axes>"
      ]
     },
     "metadata": {
      "needs_background": "light"
     },
     "output_type": "display_data"
    }
   ],
   "source": [
    "col_platforms.hist()"
   ]
  },
  {
   "cell_type": "markdown",
   "metadata": {},
   "source": [
    "### For genres, let's combine some minor genres and prioritize majors."
   ]
  },
  {
   "cell_type": "code",
   "execution_count": 18,
   "metadata": {},
   "outputs": [],
   "source": [
    "def genre_code(x):\n",
    "    majors = ['Action', 'Adventure', 'RPG', 'Strategy', 'Simulation', 'Indie']\n",
    "    code_name = ''\n",
    "    idxs = []\n",
    "    for g in x:\n",
    "        if g in majors:\n",
    "            idxs.append(majors.index(g))\n",
    "    if len(idxs) > 0:\n",
    "        idxs = sorted(idxs)\n",
    "        for i in idxs:\n",
    "            code_name += chr(97+i)\n",
    "        return code_name\n",
    "    else:\n",
    "        return 'else'\n",
    "col_genres = split_genres.apply(genre_code)"
   ]
  },
  {
   "cell_type": "code",
   "execution_count": 19,
   "metadata": {},
   "outputs": [
    {
     "data": {
      "text/plain": [
       "<AxesSubplot:>"
      ]
     },
     "execution_count": 19,
     "metadata": {},
     "output_type": "execute_result"
    },
    {
     "data": {
      "image/png": "[encoded data removed]",
      "text/plain": [
       "<Figure size 864x432 with 1 Axes>"
      ]
     },
     "metadata": {
      "needs_background": "light"
     },
     "output_type": "display_data"
    }
   ],
   "source": [
    "col_genres.hist(xrot=90, figsize = (12,6))"
   ]
  },
  {
   "cell_type": "markdown",
   "metadata": {},
   "source": [
    "### The 'required_age' feature is dominat by zeros. Code it as zero or not."
   ]
  },
  {
   "cell_type": "code",
   "execution_count": 20,
   "metadata": {},
   "outputs": [],
   "source": [
    "col_age = df_steam['required_age'].apply(lambda x: 'yes' if x > 0 else 'no')"
   ]
  },
  {
   "cell_type": "code",
   "execution_count": 21,
   "metadata": {},
   "outputs": [
    {
     "data": {
      "text/plain": [
       "<AxesSubplot:>"
      ]
     },
     "execution_count": 21,
     "metadata": {},
     "output_type": "execute_result"
    },
    {
     "data": {
      "image/png": "[encoded data removed]",
      "text/plain": [
       "<Figure size 432x288 with 1 Axes>"
      ]
     },
     "metadata": {
      "needs_background": "light"
     },
     "output_type": "display_data"
    }
   ],
   "source": [
    "col_age.hist()"
   ]
  },
  {
   "cell_type": "markdown",
   "metadata": {},
   "source": [
    "#### Still, it's extremely unbalanced feature."
   ]
  },
  {
   "cell_type": "markdown",
   "metadata": {},
   "source": [
    "# Numeric features"
   ]
  },
  {
   "cell_type": "code",
   "execution_count": 22,
   "metadata": {},
   "outputs": [
    {
     "data": {
      "text/html": [
       "<div>\n",
       "<style scoped>\n",
       "    .dataframe tbody tr th:only-of-type {\n",
       "        vertical-align: middle;\n",
       "    }\n",
       "\n",
       "    .dataframe tbody tr th {\n",
       "        vertical-align: top;\n",
       "    }\n",
       "\n",
       "    .dataframe thead th {\n",
       "        text-align: right;\n",
       "    }\n",
       "</style>\n",
       "<table border=\"1\" class=\"dataframe\">\n",
       "  <thead>\n",
       "    <tr style=\"text-align: right;\">\n",
       "      <th></th>\n",
       "      <th>price</th>\n",
       "      <th>positive_ratings</th>\n",
       "      <th>negative_ratings</th>\n",
       "    </tr>\n",
       "  </thead>\n",
       "  <tbody>\n",
       "    <tr>\n",
       "      <th>count</th>\n",
       "      <td>27075.000000</td>\n",
       "      <td>2.707500e+04</td>\n",
       "      <td>27075.000000</td>\n",
       "    </tr>\n",
       "    <tr>\n",
       "      <th>mean</th>\n",
       "      <td>6.078193</td>\n",
       "      <td>1.000559e+03</td>\n",
       "      <td>211.027147</td>\n",
       "    </tr>\n",
       "    <tr>\n",
       "      <th>std</th>\n",
       "      <td>7.874922</td>\n",
       "      <td>1.898872e+04</td>\n",
       "      <td>4284.938531</td>\n",
       "    </tr>\n",
       "    <tr>\n",
       "      <th>min</th>\n",
       "      <td>0.000000</td>\n",
       "      <td>0.000000e+00</td>\n",
       "      <td>0.000000</td>\n",
       "    </tr>\n",
       "    <tr>\n",
       "      <th>25%</th>\n",
       "      <td>1.690000</td>\n",
       "      <td>6.000000e+00</td>\n",
       "      <td>2.000000</td>\n",
       "    </tr>\n",
       "    <tr>\n",
       "      <th>50%</th>\n",
       "      <td>3.990000</td>\n",
       "      <td>2.400000e+01</td>\n",
       "      <td>9.000000</td>\n",
       "    </tr>\n",
       "    <tr>\n",
       "      <th>75%</th>\n",
       "      <td>7.190000</td>\n",
       "      <td>1.260000e+02</td>\n",
       "      <td>42.000000</td>\n",
       "    </tr>\n",
       "    <tr>\n",
       "      <th>max</th>\n",
       "      <td>421.990000</td>\n",
       "      <td>2.644404e+06</td>\n",
       "      <td>487076.000000</td>\n",
       "    </tr>\n",
       "  </tbody>\n",
       "</table>\n",
       "</div>"
      ],
      "text/plain": [
       "              price  positive_ratings  negative_ratings\n",
       "count  27075.000000      2.707500e+04      27075.000000\n",
       "mean       6.078193      1.000559e+03        211.027147\n",
       "std        7.874922      1.898872e+04       4284.938531\n",
       "min        0.000000      0.000000e+00          0.000000\n",
       "25%        1.690000      6.000000e+00          2.000000\n",
       "50%        3.990000      2.400000e+01          9.000000\n",
       "75%        7.190000      1.260000e+02         42.000000\n",
       "max      421.990000      2.644404e+06     487076.000000"
      ]
     },
     "execution_count": 22,
     "metadata": {},
     "output_type": "execute_result"
    }
   ],
   "source": [
    "df_steam[['price','positive_ratings','negative_ratings']].describe()"
   ]
  },
  {
   "cell_type": "markdown",
   "metadata": {},
   "source": [
    "### price: abnormal value exist\n",
    "### ratings: needs to be normalized"
   ]
  },
  {
   "cell_type": "code",
   "execution_count": 23,
   "metadata": {},
   "outputs": [],
   "source": [
    "vfunc = np.vectorize(lambda x : 1/(1 + np.exp(-x)))\n",
    "import scipy.stats as stats\n",
    "\n",
    "array_price = vfunc(stats.zscore(df_steam['price']))\n",
    "series_price = pd.Series(data=array_price, name='price', dtype=float,)"
   ]
  },
  {
   "cell_type": "code",
   "execution_count": 24,
   "metadata": {},
   "outputs": [
    {
     "data": {
      "text/plain": [
       "<AxesSubplot:>"
      ]
     },
     "execution_count": 24,
     "metadata": {},
     "output_type": "execute_result"
    },
    {
     "data": {
      "image/png": "[encoded data removed]",
      "text/plain": [
       "<Figure size 432x288 with 1 Axes>"
      ]
     },
     "metadata": {
      "needs_background": "light"
     },
     "output_type": "display_data"
    }
   ],
   "source": [
    "series_price.hist()"
   ]
  },
  {
   "cell_type": "code",
   "execution_count": 25,
   "metadata": {},
   "outputs": [],
   "source": [
    "def log_chopper(x, bound = 10000):\n",
    "    if x <= 1:\n",
    "        return 0\n",
    "    elif x <= bound:\n",
    "        return np.log(x)\n",
    "    else:\n",
    "        return np.log(bound)\n",
    "\n",
    "# log_price = df_steam['price'].apply( log_chopper )\n",
    "# log_price.hist()"
   ]
  },
  {
   "cell_type": "code",
   "execution_count": 26,
   "metadata": {},
   "outputs": [
    {
     "data": {
      "text/plain": [
       "<AxesSubplot:>"
      ]
     },
     "execution_count": 26,
     "metadata": {},
     "output_type": "execute_result"
    },
    {
     "data": {
      "image/png": "[encoded data removed]",
      "text/plain": [
       "<Figure size 432x288 with 1 Axes>"
      ]
     },
     "metadata": {
      "needs_background": "light"
     },
     "output_type": "display_data"
    }
   ],
   "source": [
    "log_p_rate = df_steam['positive_ratings'].apply( log_chopper )\n",
    "\n",
    "array_pr = stats.zscore(log_p_rate)\n",
    "series_pr = pd.Series(data=array_pr, name='positive_ratings', dtype=float,)\n",
    "\n",
    "series_pr.hist()"
   ]
  },
  {
   "cell_type": "code",
   "execution_count": 27,
   "metadata": {},
   "outputs": [
    {
     "data": {
      "text/plain": [
       "<AxesSubplot:>"
      ]
     },
     "execution_count": 27,
     "metadata": {},
     "output_type": "execute_result"
    },
    {
     "data": {
      "image/png": "[encoded data removed]",
      "text/plain": [
       "<Figure size 432x288 with 1 Axes>"
      ]
     },
     "metadata": {
      "needs_background": "light"
     },
     "output_type": "display_data"
    }
   ],
   "source": [
    "log_n_rate = df_steam['negative_ratings'].apply( log_chopper )\n",
    "array_nr = stats.zscore(log_n_rate)\n",
    "series_nr = pd.Series(data=array_nr, name='negative_ratings', dtype=float,)\n",
    "series_nr.hist()"
   ]
  },
  {
   "cell_type": "code",
   "execution_count": 28,
   "metadata": {},
   "outputs": [
    {
     "data": {
      "text/plain": [
       "<AxesSubplot:>"
      ]
     },
     "execution_count": 28,
     "metadata": {},
     "output_type": "execute_result"
    },
    {
     "data": {
      "image/png": "[encoded data removed]",
      "text/plain": [
       "<Figure size 432x288 with 1 Axes>"
      ]
     },
     "metadata": {
      "needs_background": "light"
     },
     "output_type": "display_data"
    }
   ],
   "source": [
    "series_days = vfunc(stats.zscore(array_days))\n",
    "series_days = pd.Series(data=series_days, name='days', dtype=float,)\n",
    "series_days.hist()"
   ]
  },
  {
   "cell_type": "markdown",
   "metadata": {},
   "source": [
    "### Combine all"
   ]
  },
  {
   "cell_type": "code",
   "execution_count": 29,
   "metadata": {},
   "outputs": [],
   "source": [
    "df_reg = pd.concat(\n",
    "    [series_price, series_pr, series_nr, series_days, col_platforms , col_genres, df_owners_log],\n",
    "    axis = 1)\n",
    "df_mclass = pd.concat(\n",
    "    [series_price, series_pr, series_nr, series_days, col_platforms , col_genres, df_owners_buckets],\n",
    "    axis = 1)\n",
    "\n",
    "# only tiny part of data have platforms == 'else'. Let's drop them.\n",
    "df_reg = df_reg[(df_reg['platforms'] != 'else')]\n",
    "df_mclass = df_mclass[(df_mclass['platforms'] != 'else')]"
   ]
  },
  {
   "cell_type": "markdown",
   "metadata": {},
   "source": [
    "# Build model"
   ]
  },
  {
   "cell_type": "markdown",
   "metadata": {},
   "source": [
    "## 1. Regression model"
   ]
  },
  {
   "cell_type": "code",
   "execution_count": 30,
   "metadata": {},
   "outputs": [],
   "source": [
    "TARGET = df_reg"
   ]
  },
  {
   "cell_type": "code",
   "execution_count": 31,
   "metadata": {},
   "outputs": [
    {
     "name": "stdout",
     "output_type": "stream",
     "text": [
      "We have 19490 samples for training, 4873 for validation, and 2707 for test\n"
     ]
    }
   ],
   "source": [
    "from sklearn.model_selection import train_test_split\n",
    "train, test = train_test_split(TARGET, test_size=0.1)\n",
    "train, val = train_test_split(train, test_size=0.2)\n",
    "print(\n",
    "    \"We have %d samples for training, %d for validation, and %d for test\"\n",
    "    % (len(train), len(val), len(test))\n",
    ")"
   ]
  },
  {
   "cell_type": "code",
   "execution_count": 32,
   "metadata": {},
   "outputs": [],
   "source": [
    "def dataframe_to_dataset(dataframe):\n",
    "    dataframe = dataframe.copy()\n",
    "    labels = dataframe.pop(\"owners\")\n",
    "    ds = tf.data.Dataset.from_tensor_slices((dict(dataframe), labels))\n",
    "    ds = ds.shuffle(buffer_size=len(dataframe))\n",
    "    return ds\n",
    "\n",
    "\n",
    "train_ds = dataframe_to_dataset(train)\n",
    "val_ds = dataframe_to_dataset(val)"
   ]
  },
  {
   "cell_type": "code",
   "execution_count": 33,
   "metadata": {},
   "outputs": [],
   "source": [
    "train_ds = train_ds.batch(32)\n",
    "val_ds = val_ds.batch(32)"
   ]
  },
  {
   "cell_type": "code",
   "execution_count": 34,
   "metadata": {},
   "outputs": [],
   "source": [
    "from tensorflow.keras.layers import IntegerLookup\n",
    "from tensorflow.keras.layers import Normalization\n",
    "from tensorflow.keras.layers import StringLookup\n",
    "\n",
    "\n",
    "def encode_numerical_feature(feature, name, dataset):\n",
    "    # Create a Normalization layer for our feature\n",
    "    normalizer = Normalization()\n",
    "\n",
    "    # Prepare a Dataset that only yields our feature\n",
    "    feature_ds = dataset.map(lambda x, y: x[name])\n",
    "    feature_ds = feature_ds.map(lambda x: tf.expand_dims(x, -1))\n",
    "\n",
    "    # Learn the statistics of the data\n",
    "    normalizer.adapt(feature_ds)\n",
    "\n",
    "    # Normalize the input feature\n",
    "    encoded_feature = normalizer(feature)\n",
    "    return encoded_feature\n",
    "\n",
    "\n",
    "def encode_categorical_feature(feature, name, dataset, is_string):\n",
    "    lookup_class = StringLookup if is_string else IntegerLookup\n",
    "    # Create a lookup layer which will turn strings into integer indices\n",
    "    lookup = lookup_class(output_mode=\"binary\")\n",
    "\n",
    "    # Prepare a Dataset that only yields our feature\n",
    "    feature_ds = dataset.map(lambda x, y: x[name])\n",
    "    feature_ds = feature_ds.map(lambda x: tf.expand_dims(x, -1))\n",
    "\n",
    "    # Learn the set of possible string values and assign them a fixed integer index\n",
    "    lookup.adapt(feature_ds)\n",
    "\n",
    "    # Turn the string input into integer indices\n",
    "    encoded_feature = lookup(feature)\n",
    "    return encoded_feature"
   ]
  },
  {
   "cell_type": "code",
   "execution_count": 35,
   "metadata": {},
   "outputs": [
    {
     "name": "stdout",
     "output_type": "stream",
     "text": [
      "Index(['price', 'positive_ratings', 'negative_ratings', 'days', 'platforms',\n",
      "       'genres', 'owners'],\n",
      "      dtype='object')\n",
      "7\n"
     ]
    }
   ],
   "source": [
    "print(train.columns)\n",
    "print(len(train.columns))"
   ]
  },
  {
   "cell_type": "code",
   "execution_count": 36,
   "metadata": {},
   "outputs": [],
   "source": [
    "# Categorical features encoded as integers\n",
    "platforms = keras.Input(shape=(1,), name=\"platforms\", dtype=\"string\")\n",
    "genres = keras.Input(shape=(1,), name=\"genres\", dtype=\"string\")\n",
    "\n",
    "# Numerical features\n",
    "price = keras.Input(shape=(1,), name=\"price\")\n",
    "positive_ratings = keras.Input(shape=(1,), name=\"positive_ratings\")\n",
    "negative_ratings = keras.Input(shape=(1,), name=\"negative_ratings\")\n",
    "days = keras.Input(shape=(1,), name=\"days\")\n",
    "\n",
    "\n",
    "all_inputs = [\n",
    "    platforms,\n",
    "    genres,\n",
    "    price,\n",
    "    days,\n",
    "    positive_ratings,\n",
    "    negative_ratings,\n",
    "]\n",
    "\n",
    "# Integer categorical features\n",
    "platforms_encoded = encode_categorical_feature(platforms, \"platforms\", train_ds, True)\n",
    "\n",
    "# String categorical features\n",
    "genres_encoded = encode_categorical_feature(genres, \"genres\", train_ds, True)\n",
    "\n",
    "# Numerical features\n",
    "price_encoded = encode_numerical_feature(price, \"price\", train_ds)\n",
    "positive_ratings_encoded = encode_numerical_feature(positive_ratings, \"positive_ratings\", train_ds)\n",
    "negative_ratings_encoded = encode_numerical_feature(negative_ratings, \"negative_ratings\", train_ds)\n",
    "days_encoded = encode_numerical_feature(days, \"days\", train_ds)\n",
    "\n",
    "\n",
    "all_features = layers.concatenate(\n",
    "    [\n",
    "        platforms_encoded,\n",
    "    genres_encoded,\n",
    "    price_encoded,\n",
    "    days_encoded,\n",
    "    positive_ratings_encoded,\n",
    "    negative_ratings_encoded,\n",
    "    ]\n",
    ")"
   ]
  },
  {
   "cell_type": "code",
   "execution_count": 37,
   "metadata": {},
   "outputs": [],
   "source": [
    "# Categorical features encoded as integers\n",
    "platforms = keras.Input(shape=(1,), name=\"platforms\", dtype=\"string\")\n",
    "genres = keras.Input(shape=(1,), name=\"genres\", dtype=\"string\")\n",
    "\n",
    "# Numerical features\n",
    "price = keras.Input(shape=(1,), name=\"price\")\n",
    "positive_ratings = keras.Input(shape=(1,), name=\"positive_ratings\")\n",
    "negative_ratings = keras.Input(shape=(1,), name=\"negative_ratings\")\n",
    "days = keras.Input(shape=(1,), name=\"days\")\n",
    "\n",
    "\n",
    "all_inputs = [\n",
    "    platforms,\n",
    "    genres,\n",
    "    price,\n",
    "    days,\n",
    "    positive_ratings,\n",
    "    negative_ratings,\n",
    "]\n",
    "\n",
    "# Integer categorical features\n",
    "platforms_encoded = encode_categorical_feature(platforms, \"platforms\", train_ds, True)\n",
    "\n",
    "# String categorical features\n",
    "genres_encoded = encode_categorical_feature(genres, \"genres\", train_ds, True)\n",
    "\n",
    "# Numerical features\n",
    "price_encoded = encode_numerical_feature(price, \"price\", train_ds)\n",
    "positive_ratings_encoded = encode_numerical_feature(positive_ratings, \"positive_ratings\", train_ds)\n",
    "negative_ratings_encoded = encode_numerical_feature(negative_ratings, \"negative_ratings\", train_ds)\n",
    "days_encoded = encode_numerical_feature(days, \"days\", train_ds)\n",
    "\n",
    "\n",
    "all_features = layers.concatenate(\n",
    "    [\n",
    "        platforms_encoded,\n",
    "    genres_encoded,\n",
    "    price_encoded,\n",
    "    days_encoded,\n",
    "    positive_ratings_encoded,\n",
    "    negative_ratings_encoded,\n",
    "    ]\n",
    ")"
   ]
  },
  {
   "cell_type": "code",
   "execution_count": 38,
   "metadata": {},
   "outputs": [
    {
     "data": {
      "text/plain": [
       "<KerasTensor: shape=(None, 72) dtype=float32 (created by layer 'concatenate_1')>"
      ]
     },
     "execution_count": 38,
     "metadata": {},
     "output_type": "execute_result"
    }
   ],
   "source": [
    "all_features"
   ]
  },
  {
   "cell_type": "code",
   "execution_count": 39,
   "metadata": {},
   "outputs": [],
   "source": [
    "x = None\n",
    "x = layers.Dense(16, activation=\"relu\")(all_features)\n",
    "x = layers.Dropout(0.2)(x)\n",
    "x = layers.Dense(8, activation=\"leaky_relu\")(x)\n",
    "x = layers.Dropout(0.2)(x)\n",
    "output = layers.Dense(1)(x)\n",
    "model = None\n",
    "model = keras.Model(all_inputs, output)"
   ]
  },
  {
   "cell_type": "code",
   "execution_count": 40,
   "metadata": {},
   "outputs": [
    {
     "name": "stdout",
     "output_type": "stream",
     "text": [
      "Model: \"model\"\n",
      "__________________________________________________________________________________________________\n",
      " Layer (type)                   Output Shape         Param #     Connected to                     \n",
      "==================================================================================================\n",
      " platforms (InputLayer)         [(None, 1)]          0           []                               \n",
      "                                                                                                  \n",
      " genres (InputLayer)            [(None, 1)]          0           []                               \n",
      "                                                                                                  \n",
      " price (InputLayer)             [(None, 1)]          0           []                               \n",
      "                                                                                                  \n",
      " days (InputLayer)              [(None, 1)]          0           []                               \n",
      "                                                                                                  \n",
      " positive_ratings (InputLayer)  [(None, 1)]          0           []                               \n",
      "                                                                                                  \n",
      " negative_ratings (InputLayer)  [(None, 1)]          0           []                               \n",
      "                                                                                                  \n",
      " string_lookup_2 (StringLookup)  (None, 3)           0           ['platforms[0][0]']              \n",
      "                                                                                                  \n",
      " string_lookup_3 (StringLookup)  (None, 65)          0           ['genres[0][0]']                 \n",
      "                                                                                                  \n",
      " normalization_4 (Normalization  (None, 1)           3           ['price[0][0]']                  \n",
      " )                                                                                                \n",
      "                                                                                                  \n",
      " normalization_7 (Normalization  (None, 1)           3           ['days[0][0]']                   \n",
      " )                                                                                                \n",
      "                                                                                                  \n",
      " normalization_5 (Normalization  (None, 1)           3           ['positive_ratings[0][0]']       \n",
      " )                                                                                                \n",
      "                                                                                                  \n",
      " normalization_6 (Normalization  (None, 1)           3           ['negative_ratings[0][0]']       \n",
      " )                                                                                                \n",
      "                                                                                                  \n",
      " concatenate_1 (Concatenate)    (None, 72)           0           ['string_lookup_2[0][0]',        \n",
      "                                                                  'string_lookup_3[0][0]',        \n",
      "                                                                  'normalization_4[0][0]',        \n",
      "                                                                  'normalization_7[0][0]',        \n",
      "                                                                  'normalization_5[0][0]',        \n",
      "                                                                  'normalization_6[0][0]']        \n",
      "                                                                                                  \n",
      " dense (Dense)                  (None, 16)           1168        ['concatenate_1[0][0]']          \n",
      "                                                                                                  \n",
      " dropout (Dropout)              (None, 16)           0           ['dense[0][0]']                  \n",
      "                                                                                                  \n",
      " dense_1 (Dense)                (None, 8)            136         ['dropout[0][0]']                \n",
      "                                                                                                  \n",
      " dropout_1 (Dropout)            (None, 8)            0           ['dense_1[0][0]']                \n",
      "                                                                                                  \n",
      " dense_2 (Dense)                (None, 1)            9           ['dropout_1[0][0]']              \n",
      "                                                                                                  \n",
      "==================================================================================================\n",
      "Total params: 1,325\n",
      "Trainable params: 1,313\n",
      "Non-trainable params: 12\n",
      "__________________________________________________________________________________________________\n"
     ]
    }
   ],
   "source": [
    "LEARNING_RATE = 0.001 #@param\n",
    "model.compile(optimizer=tf.keras.optimizers.Adam(learning_rate = LEARNING_RATE),  \n",
    "              loss=\"mean_squared_error\",\n",
    "              metrics=[tf.keras.metrics.MeanSquaredError()]\n",
    "             )\n",
    "model.summary()"
   ]
  },
  {
   "cell_type": "code",
   "execution_count": 41,
   "metadata": {},
   "outputs": [],
   "source": [
    "# keras.utils.plot_model(model, show_shapes=True)"
   ]
  },
  {
   "cell_type": "code",
   "execution_count": 42,
   "metadata": {},
   "outputs": [
    {
     "name": "stdout",
     "output_type": "stream",
     "text": [
      "Epoch 1/30\n",
      "610/610 [==============================] - 1s 988us/step - loss: 0.8805 - mean_squared_error: 0.8805 - val_loss: 0.0782 - val_mean_squared_error: 0.0782\n",
      "Epoch 2/30\n",
      "610/610 [==============================] - 1s 876us/step - loss: 0.2492 - mean_squared_error: 0.2492 - val_loss: 0.0675 - val_mean_squared_error: 0.0675\n",
      "Epoch 3/30\n",
      "610/610 [==============================] - 1s 827us/step - loss: 0.1794 - mean_squared_error: 0.1794 - val_loss: 0.0681 - val_mean_squared_error: 0.0681\n",
      "Epoch 4/30\n",
      "610/610 [==============================] - 1s 843us/step - loss: 0.1453 - mean_squared_error: 0.1453 - val_loss: 0.0588 - val_mean_squared_error: 0.0588\n",
      "Epoch 5/30\n",
      "610/610 [==============================] - 1s 857us/step - loss: 0.1262 - mean_squared_error: 0.1262 - val_loss: 0.0594 - val_mean_squared_error: 0.0594\n",
      "Epoch 6/30\n",
      "610/610 [==============================] - 1s 847us/step - loss: 0.1133 - mean_squared_error: 0.1133 - val_loss: 0.0547 - val_mean_squared_error: 0.0547\n",
      "Epoch 7/30\n",
      "610/610 [==============================] - 1s 849us/step - loss: 0.1058 - mean_squared_error: 0.1058 - val_loss: 0.0557 - val_mean_squared_error: 0.0557\n",
      "Epoch 8/30\n",
      "610/610 [==============================] - 1s 862us/step - loss: 0.0949 - mean_squared_error: 0.0949 - val_loss: 0.0542 - val_mean_squared_error: 0.0542\n",
      "Epoch 9/30\n",
      "610/610 [==============================] - 1s 824us/step - loss: 0.0908 - mean_squared_error: 0.0908 - val_loss: 0.0583 - val_mean_squared_error: 0.0583\n",
      "Epoch 10/30\n",
      "610/610 [==============================] - 1s 854us/step - loss: 0.0840 - mean_squared_error: 0.0840 - val_loss: 0.0536 - val_mean_squared_error: 0.0536\n",
      "Epoch 11/30\n",
      "610/610 [==============================] - 1s 860us/step - loss: 0.0766 - mean_squared_error: 0.0766 - val_loss: 0.0521 - val_mean_squared_error: 0.0521\n",
      "Epoch 12/30\n",
      "610/610 [==============================] - 1s 868us/step - loss: 0.0774 - mean_squared_error: 0.0774 - val_loss: 0.0526 - val_mean_squared_error: 0.0526\n",
      "Epoch 13/30\n",
      "610/610 [==============================] - 1s 877us/step - loss: 0.0733 - mean_squared_error: 0.0733 - val_loss: 0.0554 - val_mean_squared_error: 0.0554\n",
      "Epoch 14/30\n",
      "610/610 [==============================] - 1s 860us/step - loss: 0.0727 - mean_squared_error: 0.0727 - val_loss: 0.0547 - val_mean_squared_error: 0.0547\n",
      "Epoch 15/30\n",
      "610/610 [==============================] - 1s 859us/step - loss: 0.0710 - mean_squared_error: 0.0710 - val_loss: 0.0562 - val_mean_squared_error: 0.0562\n",
      "Epoch 16/30\n",
      "610/610 [==============================] - 1s 817us/step - loss: 0.0724 - mean_squared_error: 0.0724 - val_loss: 0.0536 - val_mean_squared_error: 0.0536\n",
      "Epoch 17/30\n",
      "610/610 [==============================] - 1s 874us/step - loss: 0.0709 - mean_squared_error: 0.0709 - val_loss: 0.0536 - val_mean_squared_error: 0.0536\n",
      "Epoch 18/30\n",
      "610/610 [==============================] - 1s 843us/step - loss: 0.0708 - mean_squared_error: 0.0708 - val_loss: 0.0533 - val_mean_squared_error: 0.0533\n",
      "Epoch 19/30\n",
      "610/610 [==============================] - 1s 823us/step - loss: 0.0706 - mean_squared_error: 0.0706 - val_loss: 0.0544 - val_mean_squared_error: 0.0544\n",
      "Epoch 20/30\n",
      "610/610 [==============================] - 1s 862us/step - loss: 0.0693 - mean_squared_error: 0.0693 - val_loss: 0.0550 - val_mean_squared_error: 0.0550\n",
      "Epoch 21/30\n",
      "610/610 [==============================] - 1s 857us/step - loss: 0.0682 - mean_squared_error: 0.0682 - val_loss: 0.0541 - val_mean_squared_error: 0.0541\n",
      "Epoch 22/30\n",
      "610/610 [==============================] - 1s 861us/step - loss: 0.0689 - mean_squared_error: 0.0689 - val_loss: 0.0535 - val_mean_squared_error: 0.0535\n",
      "Epoch 23/30\n",
      "610/610 [==============================] - 1s 858us/step - loss: 0.0689 - mean_squared_error: 0.0689 - val_loss: 0.0555 - val_mean_squared_error: 0.0555\n",
      "Epoch 24/30\n",
      "610/610 [==============================] - 1s 890us/step - loss: 0.0659 - mean_squared_error: 0.0659 - val_loss: 0.0554 - val_mean_squared_error: 0.0554\n",
      "Epoch 25/30\n",
      "610/610 [==============================] - 1s 852us/step - loss: 0.0685 - mean_squared_error: 0.0685 - val_loss: 0.0520 - val_mean_squared_error: 0.0520\n",
      "Epoch 26/30\n",
      "610/610 [==============================] - 1s 871us/step - loss: 0.0660 - mean_squared_error: 0.0660 - val_loss: 0.0524 - val_mean_squared_error: 0.0524\n",
      "Epoch 27/30\n",
      "610/610 [==============================] - 1s 871us/step - loss: 0.0674 - mean_squared_error: 0.0674 - val_loss: 0.0541 - val_mean_squared_error: 0.0541\n",
      "Epoch 28/30\n",
      "610/610 [==============================] - 1s 861us/step - loss: 0.0672 - mean_squared_error: 0.0672 - val_loss: 0.0579 - val_mean_squared_error: 0.0579\n",
      "Epoch 29/30\n",
      "610/610 [==============================] - 1s 865us/step - loss: 0.0661 - mean_squared_error: 0.0661 - val_loss: 0.0528 - val_mean_squared_error: 0.0528\n",
      "Epoch 30/30\n",
      "610/610 [==============================] - 1s 865us/step - loss: 0.0673 - mean_squared_error: 0.0673 - val_loss: 0.0522 - val_mean_squared_error: 0.0522\n"
     ]
    }
   ],
   "source": [
    "history = model.fit(train_ds, epochs=30,\n",
    "                    validation_data=val_ds)\n",
    " \n",
    "# To track the progression of training, gather a snapshot\n",
    "# of the model's metrics at each epoch. \n",
    "epochs = history.epoch\n",
    "hist = pd.DataFrame(history.history)"
   ]
  },
  {
   "cell_type": "code",
   "execution_count": 43,
   "metadata": {
    "scrolled": false
   },
   "outputs": [
    {
     "data": {
      "text/plain": [
       "<matplotlib.legend.Legend at 0x7fc178070eb0>"
      ]
     },
     "execution_count": 43,
     "metadata": {},
     "output_type": "execute_result"
    },
    {
     "data": {
      "image/png": "[encoded data removed]",
      "text/plain": [
       "<Figure size 432x288 with 1 Axes>"
      ]
     },
     "metadata": {
      "needs_background": "light"
     },
     "output_type": "display_data"
    }
   ],
   "source": [
    "plt.plot(epochs, hist['loss'], label = 'train_loss')\n",
    "plt.plot(epochs, hist['val_loss'], label = 'val_loss')\n",
    "plt.legend()"
   ]
  },
  {
   "cell_type": "code",
   "execution_count": 44,
   "metadata": {},
   "outputs": [
    {
     "name": "stdout",
     "output_type": "stream",
     "text": [
      "Evaluate on test data\n",
      "271/271 [==============================] - 0s 544us/step - loss: 0.0528 - mean_squared_error: 0.0528\n",
      "test loss, test mean_squared_error: [0.052824173122644424, 0.052824173122644424]\n",
      "Generate predictions for test samples\n",
      "predictions shape: (2707, 1)\n"
     ]
    }
   ],
   "source": [
    "# Evaluate the model on the test data using `evaluate`\n",
    "test_ds = dataframe_to_dataset(test)\n",
    "test_ds = test_ds.batch(10)\n",
    "\n",
    "print(\"Evaluate on test data\")\n",
    "results = model.evaluate(test_ds)\n",
    "print(\"test loss, test mean_squared_error:\", results)\n",
    "\n",
    "# Generate predictions (probabilities -- the output of the last layer)\n",
    "# on new data using `predict`\n",
    "print(\"Generate predictions for test samples\")\n",
    "predictions = model.predict(test_ds)\n",
    "print(\"predictions shape:\", predictions.shape)"
   ]
  },
  {
   "cell_type": "code",
   "execution_count": 49,
   "metadata": {},
   "outputs": [
    {
     "name": "stdout",
     "output_type": "stream",
     "text": [
      "label          predicted\n",
      "value          value\n",
      "in original   in original\n",
      "--------------------------------------\n",
      "1.497866      1.539184\n",
      "1.497866      1.511131\n",
      "2.302585      1.530765\n",
      "1.497866      1.910407\n",
      "1.497866      2.170977\n",
      "1.497866      1.509650\n",
      "1.497866      1.512511\n",
      "1.497866      1.668842\n",
      "1.956012      1.588424\n",
      "1.497866      1.557009\n",
      "1.497866      2.754667\n",
      "1.956012      1.511754\n",
      "1.497866      2.695741\n",
      "1.497866      1.554533\n",
      "1.497866      2.692650\n",
      "1.497866      1.528315\n",
      "1.497866      1.547084\n",
      "1.956012      1.487020\n",
      "1.497866      1.559429\n",
      "1.497866      1.505943\n"
     ]
    }
   ],
   "source": [
    "# Show random 20 predictions\n",
    "print(\"label          predicted\")\n",
    "print(\"value          value\")\n",
    "print(\"in original   in original\")\n",
    "print(\"--------------------------------------\")\n",
    "\n",
    "for i in range(20):\n",
    "    rand_i = np.random.randint(len(predictions))\n",
    "    print (\"%f      %f\" % (test['owners'].iloc[rand_i], predictions[rand_i] ))"
   ]
  },
  {
   "cell_type": "markdown",
   "metadata": {},
   "source": [
    "## 2. Classification model"
   ]
  },
  {
   "cell_type": "code",
   "execution_count": 50,
   "metadata": {},
   "outputs": [],
   "source": [
    "df_mclass['owners'] = df_mclass['owners'].apply(lambda x: int(x)-1)"
   ]
  },
  {
   "cell_type": "code",
   "execution_count": 51,
   "metadata": {},
   "outputs": [],
   "source": [
    "TARGET = df_mclass"
   ]
  },
  {
   "cell_type": "code",
   "execution_count": 52,
   "metadata": {},
   "outputs": [
    {
     "name": "stdout",
     "output_type": "stream",
     "text": [
      "We have 19490 samples for training, 4873 for validation, and 2707 for test\n"
     ]
    }
   ],
   "source": [
    "from sklearn.model_selection import train_test_split\n",
    "train, test = train_test_split(TARGET, test_size=0.1)\n",
    "train, val = train_test_split(train, test_size=0.2)\n",
    "print(\n",
    "    \"We have %d samples for training, %d for validation, and %d for test\"\n",
    "    % (len(train), len(val), len(test))\n",
    ")"
   ]
  },
  {
   "cell_type": "code",
   "execution_count": 53,
   "metadata": {},
   "outputs": [],
   "source": [
    "def dataframe_to_dataset(dataframe):\n",
    "    dataframe = dataframe.copy()\n",
    "    labels = dataframe.pop(\"owners\")\n",
    "    ds = tf.data.Dataset.from_tensor_slices((dict(dataframe), labels))\n",
    "    ds = ds.shuffle(buffer_size=len(dataframe))\n",
    "    return ds\n",
    "\n",
    "\n",
    "train_ds = dataframe_to_dataset(train)\n",
    "val_ds = dataframe_to_dataset(val)"
   ]
  },
  {
   "cell_type": "code",
   "execution_count": 54,
   "metadata": {},
   "outputs": [],
   "source": [
    "train_ds = train_ds.batch(32)\n",
    "val_ds = val_ds.batch(32)"
   ]
  },
  {
   "cell_type": "code",
   "execution_count": 55,
   "metadata": {},
   "outputs": [],
   "source": [
    "x2 = None\n",
    "x2 = layers.Dense(32, activation=\"leaky_relu\")(all_features)\n",
    "x2 = layers.Dropout(0.2)(x2)\n",
    "x2 = layers.Dense(24, activation=\"leaky_relu\")(x2)\n",
    "x2 = layers.Dropout(0.2)(x2)\n",
    "output2 = layers.Dense(9, activation='softmax')(x2)\n",
    "model2 = None\n",
    "model2 = keras.Model(all_inputs, output2)"
   ]
  },
  {
   "cell_type": "code",
   "execution_count": 56,
   "metadata": {},
   "outputs": [
    {
     "name": "stdout",
     "output_type": "stream",
     "text": [
      "Model: \"model_1\"\n",
      "__________________________________________________________________________________________________\n",
      " Layer (type)                   Output Shape         Param #     Connected to                     \n",
      "==================================================================================================\n",
      " platforms (InputLayer)         [(None, 1)]          0           []                               \n",
      "                                                                                                  \n",
      " genres (InputLayer)            [(None, 1)]          0           []                               \n",
      "                                                                                                  \n",
      " price (InputLayer)             [(None, 1)]          0           []                               \n",
      "                                                                                                  \n",
      " days (InputLayer)              [(None, 1)]          0           []                               \n",
      "                                                                                                  \n",
      " positive_ratings (InputLayer)  [(None, 1)]          0           []                               \n",
      "                                                                                                  \n",
      " negative_ratings (InputLayer)  [(None, 1)]          0           []                               \n",
      "                                                                                                  \n",
      " string_lookup_2 (StringLookup)  (None, 3)           0           ['platforms[0][0]']              \n",
      "                                                                                                  \n",
      " string_lookup_3 (StringLookup)  (None, 65)          0           ['genres[0][0]']                 \n",
      "                                                                                                  \n",
      " normalization_4 (Normalization  (None, 1)           3           ['price[0][0]']                  \n",
      " )                                                                                                \n",
      "                                                                                                  \n",
      " normalization_7 (Normalization  (None, 1)           3           ['days[0][0]']                   \n",
      " )                                                                                                \n",
      "                                                                                                  \n",
      " normalization_5 (Normalization  (None, 1)           3           ['positive_ratings[0][0]']       \n",
      " )                                                                                                \n",
      "                                                                                                  \n",
      " normalization_6 (Normalization  (None, 1)           3           ['negative_ratings[0][0]']       \n",
      " )                                                                                                \n",
      "                                                                                                  \n",
      " concatenate_1 (Concatenate)    (None, 72)           0           ['string_lookup_2[0][0]',        \n",
      "                                                                  'string_lookup_3[0][0]',        \n",
      "                                                                  'normalization_4[0][0]',        \n",
      "                                                                  'normalization_7[0][0]',        \n",
      "                                                                  'normalization_5[0][0]',        \n",
      "                                                                  'normalization_6[0][0]']        \n",
      "                                                                                                  \n",
      " dense_3 (Dense)                (None, 32)           2336        ['concatenate_1[0][0]']          \n",
      "                                                                                                  \n",
      " dropout_2 (Dropout)            (None, 32)           0           ['dense_3[0][0]']                \n",
      "                                                                                                  \n",
      " dense_4 (Dense)                (None, 24)           792         ['dropout_2[0][0]']              \n",
      "                                                                                                  \n",
      " dropout_3 (Dropout)            (None, 24)           0           ['dense_4[0][0]']                \n",
      "                                                                                                  \n",
      " dense_5 (Dense)                (None, 9)            225         ['dropout_3[0][0]']              \n",
      "                                                                                                  \n",
      "==================================================================================================\n",
      "Total params: 3,365\n",
      "Trainable params: 3,353\n",
      "Non-trainable params: 12\n",
      "__________________________________________________________________________________________________\n"
     ]
    }
   ],
   "source": [
    "LEARNING_RATE = 0.002 #@param\n",
    "model2.compile(optimizer=tf.keras.optimizers.Adam(learning_rate = LEARNING_RATE),  \n",
    "                loss=\"sparse_categorical_crossentropy\",\n",
    "                metrics=['accuracy']\n",
    "                )\n",
    "model2.summary()"
   ]
  },
  {
   "cell_type": "code",
   "execution_count": 57,
   "metadata": {},
   "outputs": [
    {
     "name": "stdout",
     "output_type": "stream",
     "text": [
      "Epoch 1/30\n",
      "610/610 [==============================] - 1s 990us/step - loss: 0.7520 - accuracy: 0.7234 - val_loss: 0.5990 - val_accuracy: 0.7558\n",
      "Epoch 2/30\n",
      "610/610 [==============================] - 1s 871us/step - loss: 0.6080 - accuracy: 0.7562 - val_loss: 0.5787 - val_accuracy: 0.7644\n",
      "Epoch 3/30\n",
      "610/610 [==============================] - 1s 884us/step - loss: 0.5873 - accuracy: 0.7648 - val_loss: 0.5724 - val_accuracy: 0.7685\n",
      "Epoch 4/30\n",
      "610/610 [==============================] - 1s 842us/step - loss: 0.5831 - accuracy: 0.7659 - val_loss: 0.5707 - val_accuracy: 0.7698\n",
      "Epoch 5/30\n",
      "610/610 [==============================] - 1s 845us/step - loss: 0.5738 - accuracy: 0.7689 - val_loss: 0.5670 - val_accuracy: 0.7656\n",
      "Epoch 6/30\n",
      "610/610 [==============================] - 1s 882us/step - loss: 0.5693 - accuracy: 0.7710 - val_loss: 0.5632 - val_accuracy: 0.7691\n",
      "Epoch 7/30\n",
      "610/610 [==============================] - 1s 844us/step - loss: 0.5668 - accuracy: 0.7689 - val_loss: 0.5603 - val_accuracy: 0.7743\n",
      "Epoch 8/30\n",
      "610/610 [==============================] - 1s 873us/step - loss: 0.5654 - accuracy: 0.7732 - val_loss: 0.5606 - val_accuracy: 0.7755\n",
      "Epoch 9/30\n",
      "610/610 [==============================] - 1s 868us/step - loss: 0.5648 - accuracy: 0.7734 - val_loss: 0.5583 - val_accuracy: 0.7751\n",
      "Epoch 10/30\n",
      "610/610 [==============================] - 1s 859us/step - loss: 0.5601 - accuracy: 0.7733 - val_loss: 0.5610 - val_accuracy: 0.7769\n",
      "Epoch 11/30\n",
      "610/610 [==============================] - 1s 841us/step - loss: 0.5571 - accuracy: 0.7765 - val_loss: 0.5586 - val_accuracy: 0.7714\n",
      "Epoch 12/30\n",
      "610/610 [==============================] - 1s 874us/step - loss: 0.5591 - accuracy: 0.7753 - val_loss: 0.5599 - val_accuracy: 0.7775\n",
      "Epoch 13/30\n",
      "610/610 [==============================] - 1s 877us/step - loss: 0.5537 - accuracy: 0.7771 - val_loss: 0.5562 - val_accuracy: 0.7769\n",
      "Epoch 14/30\n",
      "610/610 [==============================] - 1s 880us/step - loss: 0.5545 - accuracy: 0.7741 - val_loss: 0.5650 - val_accuracy: 0.7790\n",
      "Epoch 15/30\n",
      "610/610 [==============================] - 1s 896us/step - loss: 0.5520 - accuracy: 0.7763 - val_loss: 0.5574 - val_accuracy: 0.7802\n",
      "Epoch 16/30\n",
      "610/610 [==============================] - 1s 894us/step - loss: 0.5532 - accuracy: 0.7789 - val_loss: 0.5528 - val_accuracy: 0.7769\n",
      "Epoch 17/30\n",
      "610/610 [==============================] - 1s 883us/step - loss: 0.5488 - accuracy: 0.7775 - val_loss: 0.5568 - val_accuracy: 0.7761\n",
      "Epoch 18/30\n",
      "610/610 [==============================] - 1s 879us/step - loss: 0.5514 - accuracy: 0.7777 - val_loss: 0.5540 - val_accuracy: 0.7737\n",
      "Epoch 19/30\n",
      "610/610 [==============================] - 1s 879us/step - loss: 0.5485 - accuracy: 0.7785 - val_loss: 0.5483 - val_accuracy: 0.7796\n",
      "Epoch 20/30\n",
      "610/610 [==============================] - 1s 885us/step - loss: 0.5468 - accuracy: 0.7792 - val_loss: 0.5527 - val_accuracy: 0.7800\n",
      "Epoch 21/30\n",
      "610/610 [==============================] - 1s 897us/step - loss: 0.5484 - accuracy: 0.7771 - val_loss: 0.5512 - val_accuracy: 0.7794\n",
      "Epoch 22/30\n",
      "610/610 [==============================] - 1s 870us/step - loss: 0.5509 - accuracy: 0.7780 - val_loss: 0.5551 - val_accuracy: 0.7728\n",
      "Epoch 23/30\n",
      "610/610 [==============================] - 1s 893us/step - loss: 0.5474 - accuracy: 0.7782 - val_loss: 0.5518 - val_accuracy: 0.7761\n",
      "Epoch 24/30\n",
      "610/610 [==============================] - 1s 889us/step - loss: 0.5517 - accuracy: 0.7783 - val_loss: 0.5562 - val_accuracy: 0.7737\n",
      "Epoch 25/30\n",
      "610/610 [==============================] - 1s 898us/step - loss: 0.5474 - accuracy: 0.7785 - val_loss: 0.5488 - val_accuracy: 0.7782\n",
      "Epoch 26/30\n",
      "610/610 [==============================] - 1s 859us/step - loss: 0.5472 - accuracy: 0.7803 - val_loss: 0.5500 - val_accuracy: 0.7745\n",
      "Epoch 27/30\n",
      "610/610 [==============================] - 1s 886us/step - loss: 0.5461 - accuracy: 0.7789 - val_loss: 0.5554 - val_accuracy: 0.7757\n",
      "Epoch 28/30\n",
      "610/610 [==============================] - 1s 888us/step - loss: 0.5486 - accuracy: 0.7770 - val_loss: 0.5518 - val_accuracy: 0.7763\n",
      "Epoch 29/30\n",
      "610/610 [==============================] - 1s 892us/step - loss: 0.5431 - accuracy: 0.7784 - val_loss: 0.5522 - val_accuracy: 0.7755\n",
      "Epoch 30/30\n",
      "610/610 [==============================] - 1s 868us/step - loss: 0.5458 - accuracy: 0.7793 - val_loss: 0.5469 - val_accuracy: 0.7780\n"
     ]
    }
   ],
   "source": [
    "history2 = model2.fit(train_ds, epochs=30,\n",
    "                    validation_data=val_ds)\n",
    " \n",
    "# To track the progression of training, gather a snapshot\n",
    "# of the model's metrics at each epoch. \n",
    "epochs2 = history2.epoch\n",
    "hist2 = pd.DataFrame(history2.history)"
   ]
  },
  {
   "cell_type": "code",
   "execution_count": 58,
   "metadata": {},
   "outputs": [
    {
     "data": {
      "text/plain": [
       "<matplotlib.legend.Legend at 0x7fc170678f40>"
      ]
     },
     "execution_count": 58,
     "metadata": {},
     "output_type": "execute_result"
    },
    {
     "data": {
      "image/png": "[encoded data removed]",
      "text/plain": [
       "<Figure size 432x288 with 1 Axes>"
      ]
     },
     "metadata": {
      "needs_background": "light"
     },
     "output_type": "display_data"
    }
   ],
   "source": [
    "plt.plot(epochs, hist2['loss'], label = 'train_loss')\n",
    "plt.plot(epochs, hist2['accuracy'], label = 'train_accuracy')\n",
    "plt.plot(epochs, hist2['val_loss'], label = 'val_loss')\n",
    "plt.plot(epochs, hist2['val_accuracy'], label = 'val_accuracy')\n",
    "plt.legend()"
   ]
  },
  {
   "cell_type": "code",
   "execution_count": 60,
   "metadata": {},
   "outputs": [
    {
     "name": "stdout",
     "output_type": "stream",
     "text": [
      "Evaluate on test data\n",
      "271/271 [==============================] - 0s 552us/step - loss: 0.5400 - accuracy: 0.7872\n",
      "test loss, test accuracy: [0.5399765968322754, 0.7872183322906494]\n",
      "Generate predictions for test samples\n",
      "predictions shape: (2707, 9)\n"
     ]
    }
   ],
   "source": [
    "# Evaluate the model on the test data using `evaluate`\n",
    "test_ds = dataframe_to_dataset(test)\n",
    "test_ds = test_ds.batch(10)\n",
    "\n",
    "print(\"Evaluate on test data\")\n",
    "results2 = model2.evaluate(test_ds)\n",
    "print(\"test loss, test accuracy:\", results2)\n",
    "\n",
    "# Generate predictions (probabilities -- the output of the last layer)\n",
    "# on new data using `predict`\n",
    "print(\"Generate predictions for test samples\")\n",
    "predictions2 = model2.predict(test_ds)\n",
    "print(\"predictions shape:\", predictions2.shape)"
   ]
  },
  {
   "cell_type": "code",
   "execution_count": 68,
   "metadata": {},
   "outputs": [
    {
     "data": {
      "image/png": "[encoded data removed]",
      "text/plain": [
       "<Figure size 720x648 with 9 Axes>"
      ]
     },
     "metadata": {
      "needs_background": "light"
     },
     "output_type": "display_data"
    }
   ],
   "source": [
    "# Random predictions\n",
    "nfig = 9\n",
    "fig, ax = plt.subplots(nfig, figsize = [10,nfig])\n",
    "for i in range(nfig):\n",
    "    rand_i = np.random.randint(len(predictions2))\n",
    "    lab = test['owners'].iloc[rand_i]\n",
    "    lab_code = [0,0,0,0,0,0,0,0,0]\n",
    "    lab_code[lab] = 1\n",
    "    lab_code = np.array(lab_code).reshape(1,9)\n",
    "    pred_code = predictions2[rand_i].flatten().reshape(1,9)\n",
    "    twoline = np.concatenate((lab_code,pred_code))\n",
    "\n",
    "    ax[i].imshow(twoline, cmap = 'hot')\n",
    "    ax[i].set_yticks([0,1])\n",
    "    ax[i].set_yticklabels(['test','predicted'])\n",
    "    \n",
    "#     plt.imshow(twoline, cmap = 'hot')\n",
    "#     plt.yticks([0,1],['test','predicted'])\n",
    "#     print( 'test_label:', lab_code)\n",
    "#     print( 'predicted:',[f\"{p:.2f}\" for p in list(predictions[rand_i].flatten())])"
   ]
  },
  {
   "cell_type": "markdown",
   "metadata": {},
   "source": [
    "# Conclusion\n",
    "## 1. Regression model:\n",
    "### test mean_squared_error: 0.0528 for 2707 test samples\n",
    "\n",
    "## 2. Classification model:\n",
    "### test loss: 0.5400 test accuracy: 0.7872"
   ]
  }
 ],
 "metadata": {
  "kernelspec": {
   "display_name": "Python 3",
   "language": "python",
   "name": "python3"
  },
  "language_info": {
   "codemirror_mode": {
    "name": "ipython",
    "version": 3
   },
   "file_extension": ".py",
   "mimetype": "text/x-python",
   "name": "python",
   "nbconvert_exporter": "python",
   "pygments_lexer": "ipython3",
   "version": "3.8.5"
  }
 },
 "nbformat": 4,
 "nbformat_minor": 4
}
